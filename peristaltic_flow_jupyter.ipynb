{
 "cells": [
  {
   "attachments": {},
   "cell_type": "markdown",
   "id": "7eb777f3",
   "metadata": {},
   "source": [
    "![alternatvie text](https://github.com/meg-simula/in-silico-brain-transport/blob/main/simula%20logo.jpg?raw=true)"
   ]
  },
  {
   "attachments": {},
   "cell_type": "markdown",
   "id": "d0c7918f",
   "metadata": {},
   "source": [
    "# <center>Peristaltic Flow Script</center>\n",
    "\n",
    "This script allows the user to compute an estimate of net flow in a perivascular network, which is critical for understanding the transport of molcules in and around the human brain. Image data were downloaded from Hodneland et al, PLOS Comp. Bio, 2023, which can be read in full [here](https://doi.org/10.1371/journal.pcbi.1007073)."
   ]
  },
  {
   "cell_type": "markdown",
   "id": "0e67cdf9",
   "metadata": {},
   "source": [
    "# Fluid Flow in Perivascular Spaces (PVS) Simulation\n",
    "\n",
    "Below you can interactively simulate the fluid flow in perivascular spaces! "
   ]
  },
  {
   "cell_type": "markdown",
   "id": "d6ad534f",
   "metadata": {},
   "source": [
    "## Input Variables \n",
    "\n",
    "Below, you will find the variables that you can adjust to simulate the flow in a perivascular network. \n",
    "\n",
    "<div class=\"alert alert-block alert-info\">\n",
    "    \n",
    "<b>Frequency =</b> Vascular wave frequency (Hz)<br>\n",
    "<b>Wavelength =</b> Vascular wave wavelength (mm)<br>\n",
    "<b>Amplitude =</b> Vascular wave relative amplitude (relative to (inner) vascular radius)<br>\n",
    "<b>Beta =</b> Ratio outer-to-inner vessel (PVS width + 1)"
   ]
  },
  {
   "cell_type": "code",
   "execution_count": 2,
   "id": "7f49a690",
   "metadata": {},
   "outputs": [
    {
     "data": {
      "application/vnd.jupyter.widget-view+json": {
       "model_id": "33e5d6f14d454c2b8eba89bd68d11ba7",
       "version_major": 2,
       "version_minor": 0
      },
      "text/plain": [
       "Label(value='Please adjust the input variables using the sliders below.')"
      ]
     },
     "metadata": {},
     "output_type": "display_data"
    },
    {
     "data": {
      "application/vnd.jupyter.widget-view+json": {
       "model_id": "4f69c3cb850f4d95a6e2fc6e421775c5",
       "version_major": 2,
       "version_minor": 0
      },
      "text/plain": [
       "FloatSlider(value=1.0, description='Frequency:', max=10.0, min=0.1)"
      ]
     },
     "metadata": {},
     "output_type": "display_data"
    },
    {
     "data": {
      "application/vnd.jupyter.widget-view+json": {
       "model_id": "530159aa7a8f4cf49db44db68ec284a6",
       "version_major": 2,
       "version_minor": 0
      },
      "text/plain": [
       "FloatSlider(value=2000.0, description='Wavelength:', max=5000.0, min=80.0, step=20.0)"
      ]
     },
     "metadata": {},
     "output_type": "display_data"
    },
    {
     "data": {
      "application/vnd.jupyter.widget-view+json": {
       "model_id": "dabfb7ca8bd34d579ba82fb5b182d643",
       "version_major": 2,
       "version_minor": 0
      },
      "text/plain": [
       "FloatSlider(value=0.01, description='Amplitude:', max=0.1, min=0.001, step=0.001)"
      ]
     },
     "metadata": {},
     "output_type": "display_data"
    },
    {
     "data": {
      "application/vnd.jupyter.widget-view+json": {
       "model_id": "74f7df6c41bc4a8d882f8f6aa20617a6",
       "version_major": 2,
       "version_minor": 0
      },
      "text/plain": [
       "FloatSlider(value=3.0, description='Beta:', max=5.0, min=1.01)"
      ]
     },
     "metadata": {},
     "output_type": "display_data"
    },
    {
     "data": {
      "application/vnd.jupyter.widget-view+json": {
       "model_id": "2fa9d766974e457cbff893921ec20de0",
       "version_major": 2,
       "version_minor": 0
      },
      "text/plain": [
       "Button(description='Compute', style=ButtonStyle())"
      ]
     },
     "metadata": {},
     "output_type": "display_data"
    },
    {
     "data": {
      "application/vnd.jupyter.widget-view+json": {
       "model_id": "d8d30d84cd284a25961a8bc32b9fbf11",
       "version_major": 2,
       "version_minor": 0
      },
      "text/plain": [
       "Output()"
      ]
     },
     "metadata": {},
     "output_type": "display_data"
    },
    {
     "data": {
      "application/vnd.jupyter.widget-view+json": {
       "model_id": "41f69c55b31e483aa4afe1e31b830c86",
       "version_major": 2,
       "version_minor": 0
      },
      "text/plain": [
       "Output()"
      ]
     },
     "metadata": {},
     "output_type": "display_data"
    }
   ],
   "source": [
    "import ipywidgets as widgets\n",
    "import re\n",
    "import pyvista as pv\n",
    "from IPython.display import display, clear_output, Markdown\n",
    "import os\n",
    "\n",
    "if 'BINDER_SERVICE_HOST' in os.environ:\n",
    "    graph_path = \"~/networks/arterial_trees\"\n",
    "    script_path = \"~/scripts\"\n",
    "    pv.start_xvfb()\n",
    "    #make some accomodations for running in binder, including using xvfb for visualization of the graphs and changing the directories a bit \n",
    "    loading_spinner = widgets.HTML(\n",
    "    value=\"<i class='fa fa-spinner fa-spin' style='font-size:15px'></i> Computing, please wait about 2 minutes...\"\n",
    "    )\n",
    "    loading_spinner_fast = widgets.HTML(\n",
    "    value=\"<i class='fa fa-spinner fa-spin' style='font-size:15px'></i> Recomputing, please wait about 10 seconds...\"\n",
    "    )\n",
    "    #binder is also a lot slower at computing unfortunately.. \n",
    "\n",
    "else: \n",
    "    graph_path = \"~/in-silico-brain-transport/networks/arterial_trees\"\n",
    "    script_path = \"~/in-silico-brain-transport/scripts\"\n",
    "    loading_spinner = widgets.HTML(\n",
    "    value=\"<i class='fa fa-spinner fa-spin' style='font-size:15px'></i> Computing, please wait about 45 seconds...\"\n",
    "    )\n",
    "    loading_spinner_fast = widgets.HTML(\n",
    "    value=\"<i class='fa fa-spinner fa-spin' style='font-size:15px'></i> Recomputing, please wait about 5 seconds...\"\n",
    "    )\n",
    "    \n",
    "os.chdir(os.path.expanduser(script_path))\n",
    "\n",
    "#interface setup (input variable widgets, compute button, loading spinner, graphs output)\n",
    "\n",
    "welcome_label = widgets.Label(value=\"Please adjust the input variables using the sliders below.\") \n",
    "frequency_slider = widgets.FloatSlider(value=1.0, min=0.1, max=10.0, step=0.1, description='Frequency:')\n",
    "wavelength_slider = widgets.FloatSlider(value=2000.0, min=80.0, max=5000.0, step=20.0, description='Wavelength:')\n",
    "amplitude_slider = widgets.FloatSlider(value=0.01, min=0.001, max=0.1, step=0.001, description='Amplitude:')\n",
    "beta_slider = widgets.FloatSlider(value=3.0, min=1.01, max=5.0, step=0.1, description='Beta:')\n",
    "compute = widgets.Button(description=\"Compute\")\n",
    "### TO DO: change the min/max/step above as appropriate\n",
    "\n",
    "output = widgets.Output()\n",
    "graphs = widgets.Output() \n",
    "\n",
    "first = True #defines the first run of the script to ensure that \"recompute\" is done \n",
    "\n",
    "def compute_button_clicked(button):\n",
    "    \n",
    "    #running the peristalticflow.py script upon the user clicking the button\n",
    "    global first \n",
    "    with output:\n",
    "        clear_output() \n",
    "        frequency = frequency_slider.value\n",
    "        wavelength = wavelength_slider.value\n",
    "        amplitude = amplitude_slider.value\n",
    "        beta = beta_slider.value \n",
    "        if first:\n",
    "            display (loading_spinner)\n",
    "            if 'BINDER_SERVICE_HOST' in os.environ:\n",
    "                !conda run -n notebook python peristalticflow.py --frequency {frequency} --wavelength {wavelength} --amplitude {amplitude} --beta {beta} --recompute > output.txt #puts the output in output.txt file\n",
    "                #mybinder unfortunately renames the environment to be notebook instead \n",
    "            else:\n",
    "                !conda run -n brain_transport python peristalticflow.py --frequency {frequency} --wavelength {wavelength} --amplitude {amplitude} --beta {beta} --recompute > output.txt #puts the output in output.txt file\n",
    "            print_statistics('output.txt')\n",
    "            first = False #redefines the variable so that in the future, recompute is not needed \n",
    "            loading_spinner.value = \"Done! See below for the PVS flow statistics.\"\n",
    "        else: \n",
    "        #recompute not necessary (built into the script to save time)\n",
    "            if 'BINDER_SERVICE_HOST' in os.environ:\n",
    "                loading_spinner_fast.value = \"<i class='fa fa-spinner fa-spin' style='font-size:15px'></i> Recomputing, please wait about 10 seconds...\" \n",
    "                display (loading_spinner_fast)\n",
    "                !conda run -n notebook python peristalticflow.py --frequency {frequency} --wavelength {wavelength} --amplitude {amplitude} --beta {beta} > output.txt #puts the output in output.txt file\n",
    "                #mybinder unfortunately renames the environment to be notebook instead \n",
    "            else:\n",
    "                loading_spinner_fast.value = \"<i class='fa fa-spinner fa-spin' style='font-size:15px'></i> Recomputing, please wait about 5 seconds...\" \n",
    "                display (loading_spinner_fast)\n",
    "                !conda run -n brain_transport python peristalticflow.py --frequency {frequency} --wavelength {wavelength} --amplitude {amplitude} --beta {beta} > output.txt #puts the output in output.txt file\n",
    "            print_statistics('output.txt')\n",
    "            loading_spinner_fast.value = \"Done! See below for the PVS flow statistics.\"\n",
    "     \n",
    "    graph_display()\n",
    "\n",
    "def print_statistics(filename): \n",
    "    \n",
    "    #takes the output of running the script and turns it into a markdown cell \n",
    "    #markdown cell is intended to be more \"readable\" \n",
    "    \n",
    "    with open(filename, 'r') as file: #reads the output.txt\n",
    "        output = file.read()\n",
    "\n",
    "    #truncates the output so only the most pertinent info is conveyed to the user \n",
    "    slice1_position= output.find(\"Vascular radii\")\n",
    "    if slice1_position != -1:\n",
    "        modified_output = output[slice1_position:]\n",
    "    slice2_position = modified_output.find(\"Saving net flux to\")\n",
    "    if slice2_position != -1:\n",
    "        modified_output = modified_output[:slice2_position]\n",
    "    slice3_position = modified_output.find(\"Computing\")\n",
    "    slice4_position = modified_output.find(\"Vascular branch\")\n",
    "    if slice3_position != -1 and slice4_position != -1: #remove the \"computing time-average perivascular flow rates\"\n",
    "        modified_output = modified_output[:slice3_position] + modified_output[slice4_position:]\n",
    "\n",
    "    numbers = re.findall(r\"[-+]?(?:\\d+(?:\\.\\d*)?|\\.\\d+)(?:[Ee][-+]?\\d+)?\", modified_output) \n",
    "    #collects the numbers from the truncated output (including those in scientific notation) \n",
    "    exponent = numbers.remove('3')#removes the exponent from mm^3/s\n",
    "    k_value = numbers.pop(12)#saves the k value but removes it from the numbers\n",
    "\n",
    "    statistics  = \"|                               |   Average   | St. Dev | Minimum | Maximum | \\n\" \\\n",
    "                  \"| ------------------------------| ----------- | ------------------ | ------- | ------- |\\n\" \\\n",
    "                  \"| Vascular Radii (mm)           |    {}    |    {}    |  {}  |  {}  |\\n\" \\\n",
    "                  \"| Vascular Branch Lengths (mm)  |    {}    |    {}    |   {}  |  {}  |\\n\" \\\n",
    "                  \"| k L (arbitrary units)         |    {}    |    {}    |   {}  |  {}  |\\n\" \\\n",
    "                  \"| Net Flux (mm^3/s)             |    {}    |    {}    |   {}  |  {}  |\\n\" \\\n",
    "                  \"| Net Velocity (mm/s)           |    {}    |    {}    |   {}  |  {}  |\\n\" \\\n",
    "                  \"| Net Velocity (mum/s)          |    {}    |    {}    |   {}  |  {}  |\".format(*numbers)\n",
    "\n",
    "    display(Markdown(statistics)) #puts the stats into a pretty table\n",
    "    display(Markdown(\"k = \" + k_value))\n",
    "\n",
    "def graph_display():\n",
    "    #displaying the net flux and net velocity graphs (xdmf files)... what is \"mf\" referencing and is it preferred? \n",
    "    with graphs:\n",
    "        clear_output()\n",
    "        os.chdir(os.path.expanduser(graph_path))\n",
    "        \n",
    "        net_flux = \"pvs_Q.xdmf\"\n",
    "        net_flux_label = widgets.Label(value = \"Net Flux in the Perivascular Space\")\n",
    "        net_flux_mesh = pv.read(net_flux)\n",
    "        \n",
    "        net_flux_mf = \"pvs_Q_mf.xdmf\"\n",
    "        net_flux_mf_label = widgets.Label(value=\"Net Flux in the Perivascular Space (Mf)\")\n",
    "        net_flux_mf_mesh = pv.read(net_flux_mf)\n",
    "        \n",
    "        net_velocity = \"pvs_u.xdmf\"\n",
    "        net_velocity_label = widgets.Label(value=\"Net Velocity in the Perivascular Space\")\n",
    "        net_velocity_mesh = pv.read(net_velocity)\n",
    "        \n",
    "        net_velocity_mf = \"pvs_u_mf.xdmf\"\n",
    "        net_velocity_mf_label = widgets.Label(value=\"Net Velocity in the Perivascular Space (Mf)\")\n",
    "        net_velocity_mf_mesh = pv.read(net_velocity_mf)\n",
    "    \n",
    "        display(net_flux_label)\n",
    "        pv.plot(net_flux_mesh, notebook=True)\n",
    "        \n",
    "        display(net_flux_mf_label)\n",
    "        pv.plot(net_flux_mf_mesh, notebook=True)\n",
    "        \n",
    "        display(net_velocity_label)\n",
    "        pv.plot(net_velocity_mesh, notebook=True)\n",
    "        \n",
    "        display(net_velocity_mf_label)\n",
    "        pv.plot(net_velocity_mf_mesh, notebook=True)\n",
    "\n",
    "        os.chdir(os.path.expanduser(script_path))\n",
    "        #send back to original path so for recomputing, knows to work in the scripts folder \n",
    "        \n",
    "compute.on_click(compute_button_clicked)\n",
    "display(welcome_label, frequency_slider, wavelength_slider, amplitude_slider, beta_slider, compute, output, graphs)"
   ]
  }
 ],
 "metadata": {
  "kernelspec": {
   "display_name": "Python 3",
   "language": "python",
   "name": "python3"
  },
  "language_info": {
   "codemirror_mode": {
    "name": "ipython",
    "version": 3
   },
   "file_extension": ".py",
   "mimetype": "text/x-python",
   "name": "python",
   "nbconvert_exporter": "python",
   "pygments_lexer": "ipython3",
   "version": "3.8.8"
  }
 },
 "nbformat": 4,
 "nbformat_minor": 5
}
